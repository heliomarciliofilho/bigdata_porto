{
 "cells": [
  {
   "cell_type": "code",
   "execution_count": 1,
   "metadata": {},
   "outputs": [],
   "source": [
    "#Todos os imports necessários para aplicação.\n",
    "import os, shutil\n",
    "import pandas as pd\n",
    "import numpy as np\n",
    "from pyspark.sql import SparkSession, SQLContext\n",
    "from pyspark import SparkContext\n",
    "from os.path import isfile, join\n",
    "from os import listdir"
   ]
  },
  {
   "cell_type": "code",
   "execution_count": 2,
   "metadata": {},
   "outputs": [],
   "source": [
    "#Seta variaveis do Data Lake\n",
    "LANDED = 'C:/Users/970775/Documents/ProjectsPhyton/Bigdata/Projeto/landed/'\n",
    "RAW = 'C:/Users/970775/Documents/ProjectsPhyton/Bigdata/Projeto/raw/'\n",
    "RAWBKP = 'C:/Users/970775/Documents/ProjectsPhyton/Bigdata/Projeto/raw/bkp/'\n",
    "MODELED = 'C:/Users/970775/Documents/ProjectsPhyton/Bigdata/Projeto/modeled/'"
   ]
  },
  {
   "cell_type": "code",
   "execution_count": 3,
   "metadata": {},
   "outputs": [
    {
     "data": {
      "text/html": [
       "\n",
       "            <div>\n",
       "                <p><b>SparkSession - in-memory</b></p>\n",
       "                \n",
       "        <div>\n",
       "            <p><b>SparkContext</b></p>\n",
       "\n",
       "            <p><a href=\"http://RECDC-970775-L.corp.ds.fedex.com:4042\">Spark UI</a></p>\n",
       "\n",
       "            <dl>\n",
       "              <dt>Version</dt>\n",
       "                <dd><code>v2.4.3</code></dd>\n",
       "              <dt>Master</dt>\n",
       "                <dd><code>local[*]</code></dd>\n",
       "              <dt>AppName</dt>\n",
       "                <dd><code>SAVE PARKET</code></dd>\n",
       "            </dl>\n",
       "        </div>\n",
       "        \n",
       "            </div>\n",
       "        "
      ],
      "text/plain": [
       "<pyspark.sql.session.SparkSession at 0x1ebea215be0>"
      ]
     },
     "execution_count": 3,
     "metadata": {},
     "output_type": "execute_result"
    }
   ],
   "source": [
    "builder = SparkSession.builder.appName(\"SAVE PARKET\")\n",
    "builder.config(\"spark.hadoop.mapreduce.fileoutputcommitter.algorithm.version\", \"2\")\n",
    "builder.config(\"spark.speculation\", \"false\")\n",
    "builder.config(\"spark.sql.parquet.compression.codec\", \"gzip\")\n",
    "\n",
    "spark = builder.getOrCreate()\n",
    "sql = SQLContext(spark.sparkContext)\n",
    "spark\n"
   ]
  },
  {
   "cell_type": "code",
   "execution_count": 17,
   "metadata": {},
   "outputs": [],
   "source": [
    "#variavel\n",
    "csvfile = \"infracao_anos.csv\"\n",
    "\n",
    "#Funcoes\n",
    "def create_parquet():\n",
    "    # read csv\n",
    "    print(\"Starting wait ...\")\n",
    "    df = spark.read.csv(RAW + csvfile, sep=\";\", header='TRUE').select(\"datainfracao\",\"horainfracao\",\"infracao\",\"localcometimento\",\"agenteequipamento\",\"descricaoinfracao\")\n",
    "    #save \n",
    "    df.write.parquet(MODELED + parquetfile, compression='gzip')\n",
    "    print('Finished ..')\n",
    "    df.show()\n",
    "    \n",
    "def create_csv_full():\n",
    "    print(\"Union files\")\n",
    "    csv = [pd.read_csv(f, sep=';', header=None).apply(lambda x: x.astype(str).str.lower()) for f in arquivos]\n",
    "    full_csv = pd.concat(csv, sort=False)\n",
    "    full_csv.to_csv( RAW + csvfile, index=False, encoding='utf-8-sig', sep=';', header=None)\n",
    "    print('Finished ..')\n",
    "    \n",
    "def move_files():\n",
    "    print(\"movendo arquivos .. \")\n",
    "    for fm in arquivos:\n",
    "        shutil.move(fm, RAWBKP)\n",
    "        print(\"arquivos movidos\")\n",
    "\n",
    "def define_acao():\n",
    "    arquivos = [f for f in listdir(RAW) if (isfile(join(RAW, f)) and f.endswith('.csv')) ]\n",
    "    if arquivos.count(arquivos) > 1:\n",
    "        print(\"Encontrado mais de 1 arquivo \\nRealizando o tratamento de unificação .....\")\n",
    "        create_parquet()\n",
    "        move_files()\n",
    "    \n",
    "    else:\n",
    "    \n",
    "        print(\"Encontrado 1 arquivo \\n\\n\\nGravando parquet ....\")\n",
    "        create_parquet()\n",
    "        move_files()\n",
    "    "
   ]
  },
  {
   "cell_type": "code",
   "execution_count": 18,
   "metadata": {},
   "outputs": [
    {
     "data": {
      "text/plain": [
       "['infracao_anos.csv']"
      ]
     },
     "execution_count": 18,
     "metadata": {},
     "output_type": "execute_result"
    }
   ],
   "source": [
    "#Verifica arquivos na pasta\n",
    "arquivos = [f for f in listdir(RAW) if (isfile(join(RAW, f)) and f.endswith('.csv')) ]\n",
    "arquivos"
   ]
  },
  {
   "cell_type": "code",
   "execution_count": 19,
   "metadata": {},
   "outputs": [
    {
     "name": "stdin",
     "output_type": "stream",
     "text": [
      "Digite o nome do arquivo : infracao\n"
     ]
    },
    {
     "name": "stdout",
     "output_type": "stream",
     "text": [
      "Encontrado 1 arquivo \n",
      "\n",
      "\n",
      "Gravando parquet ....\n",
      "Starting wait ...\n",
      "Finished ..\n",
      "+------------+------------+--------+--------------------+--------------------+--------------------+\n",
      "|datainfracao|horainfracao|infracao|    localcometimento|   agenteequipamento|   descricaoinfracao|\n",
      "+------------+------------+--------+--------------------+--------------------+--------------------+\n",
      "|  2017-01-01|    20:12:24|    5452|avenida conselhei...|código 8 - autos ...|estacionar o veíc...|\n",
      "|  2017-01-01|    07:38:21|    7455|av. marechal masc...|código 3 - lombad...|transitar em velo...|\n",
      "|  2017-01-01|    11:15:50|    7463|av. recife, semaf...|código 3 - lombad...|transitar em velo...|\n",
      "|  2017-01-01|    11:20:34|    7455|av. gov. agamenon...|código 3 - lombad...|transitar em velo...|\n",
      "|  2017-01-01|    12:40:59|    7463|rua madre de deus...|código 3 - lombad...|transitar em velo...|\n",
      "|  2017-01-01|    13:03:06|    7463|av. recife, semaf...|código 3 - lombad...|transitar em velo...|\n",
      "|  2017-01-01|    14:25:32|    7455|av. marechal masc...|código 3 - lombad...|transitar em velo...|\n",
      "|  2017-01-01|    06:32:38|    7455|rua real da torre...|código 3 - lombad...|transitar em velo...|\n",
      "|  2017-01-01|    16:09:12|    7455|rua real da torre...|código 3 - lombad...|transitar em velo...|\n",
      "|  2017-01-01|    16:10:07|    7455|av. gov. agamenon...|código 3 - lombad...|transitar em velo...|\n",
      "|  2017-01-01|    06:21:34|    7455|av. gov. agamenon...|código 3 - lombad...|transitar em velo...|\n",
      "|  2017-01-01|    10:23:31|    7455|rua real da torre...|código 3 - lombad...|transitar em velo...|\n",
      "|  2017-01-01|    06:28:14|    6050|av. herculano ban...|código 5 - fotose...|avançar o sinal v...|\n",
      "|  2017-01-01|    08:16:24|    6050|av. gov. agamenon...|código 5 - fotose...|avançar o sinal v...|\n",
      "|  2017-01-01|    06:18:22|    7455|av. marechal masc...|código 3 - lombad...|transitar em velo...|\n",
      "|  2017-01-01|    17:42:57|    7455|av. eng. abdias d...|código 3 - lombad...|transitar em velo...|\n",
      "|  2017-01-01|    10:45:02|    7463|av. marechal masc...|código 3 - lombad...|transitar em velo...|\n",
      "|  2017-01-01|    11:01:55|    7455|av. marechal masc...|código 3 - lombad...|transitar em velo...|\n",
      "|  2017-01-01|    18:03:48|    7455|rua real da torre...|código 3 - lombad...|transitar em velo...|\n",
      "|  2017-01-01|    20:44:31|    7463|av. gov. agamenon...|código 3 - lombad...|transitar em velo...|\n",
      "+------------+------------+--------+--------------------+--------------------+--------------------+\n",
      "only showing top 20 rows\n",
      "\n",
      "movendo arquivos .. \n",
      "arquivos movidos\n"
     ]
    }
   ],
   "source": [
    "#Entrar com o nome do arquivo \n",
    "parquetfile = input(\"Digite o nome do arquivo :\") + \".parquet.gzip\"\n",
    "define_acao()"
   ]
  }
 ],
 "metadata": {
  "kernelspec": {
   "display_name": "Python 3",
   "language": "python",
   "name": "python3"
  },
  "language_info": {
   "codemirror_mode": {
    "name": "ipython",
    "version": 3
   },
   "file_extension": ".py",
   "mimetype": "text/x-python",
   "name": "python",
   "nbconvert_exporter": "python",
   "pygments_lexer": "ipython3",
   "version": "3.7.3"
  }
 },
 "nbformat": 4,
 "nbformat_minor": 2
}
